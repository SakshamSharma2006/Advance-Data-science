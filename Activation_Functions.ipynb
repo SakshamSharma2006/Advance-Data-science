{
  "nbformat": 4,
  "nbformat_minor": 0,
  "metadata": {
    "colab": {
      "provenance": []
    },
    "kernelspec": {
      "name": "python3",
      "display_name": "Python 3"
    },
    "language_info": {
      "name": "python"
    }
  },
  "cells": [
    {
      "cell_type": "markdown",
      "source": [
        "# **Binary Step Function**\n",
        "**f(x) = 1,    x>=0,     \n",
        "x<0**"
      ],
      "metadata": {
        "id": "hqZ6PHh1hdGn"
      }
    },
    {
      "cell_type": "code",
      "execution_count": null,
      "metadata": {
        "colab": {
          "base_uri": "https://localhost:8080/"
        },
        "id": "juy5I8Quhcci",
        "outputId": "ed73444a-7c70-4d32-f22b-c88436d9c292"
      },
      "outputs": [
        {
          "output_type": "execute_result",
          "data": {
            "text/plain": [
              "0"
            ]
          },
          "metadata": {},
          "execution_count": 2
        }
      ],
      "source": [
        "def binary_step(x):\n",
        "  if x<0:\n",
        "    return 0\n",
        "  else:\n",
        "    return 1\n",
        "binary_step(-1)"
      ]
    },
    {
      "cell_type": "markdown",
      "source": [
        "# **Linear Function**\n",
        "**f(x)=ax**"
      ],
      "metadata": {
        "id": "BkfuQTJUh9Pw"
      }
    },
    {
      "cell_type": "code",
      "source": [
        "def linear_function(x):\n",
        "  return 4*x\n",
        "linear_function(4), linear_function(-2)"
      ],
      "metadata": {
        "colab": {
          "base_uri": "https://localhost:8080/"
        },
        "id": "EgYC_3fLh_do",
        "outputId": "84ea7a08-fc44-4e72-b4aa-6df3f570ea92"
      },
      "execution_count": null,
      "outputs": [
        {
          "output_type": "execute_result",
          "data": {
            "text/plain": [
              "(16, -8)"
            ]
          },
          "metadata": {},
          "execution_count": 3
        }
      ]
    },
    {
      "cell_type": "markdown",
      "source": [
        "# **Sigmoid**\n",
        "The next activation function that we are going to look at is the Sigmoid function.\n",
        "It is one of the most widely used non-linear activation function.\n",
        "Sigmoid transforms the values between the range 0 and 1.\n",
        "Here is the mathematical expression for sigmoid-\n",
        "f(x) = 1/(1+e^-x)"
      ],
      "metadata": {
        "id": "Egk1Ti97iQ0G"
      }
    },
    {
      "cell_type": "code",
      "source": [
        "import numpy as np\n",
        "def sigmoid_function(x):\n",
        "  z = (1/(1 + np.exp(-x)))\n",
        "  return z\n",
        "sigmoid_function(7),sigmoid_function(-22)"
      ],
      "metadata": {
        "colab": {
          "base_uri": "https://localhost:8080/"
        },
        "id": "T3IGaRXziYmv",
        "outputId": "17f0d5dc-44d1-44fa-a6d4-c60d8befccd1"
      },
      "execution_count": null,
      "outputs": [
        {
          "output_type": "execute_result",
          "data": {
            "text/plain": [
              "(0.9990889488055994, 2.7894680920908113e-10)"
            ]
          },
          "metadata": {},
          "execution_count": 4
        }
      ]
    },
    {
      "cell_type": "markdown",
      "source": [
        "# **Tanh**\n",
        "The tanh function is very similar to the sigmoid function. The only difference is that it is\n",
        "symmetric around the origin. The range of values in this case is from -1 to 1. Thus the inputs to\n",
        "the next layers will not always be of the same sign. The tanh function is defined as-\n",
        "tanh(x)=2sigmoid(2x)-1\n",
        "\n",
        "tanh(x) = 2/(1+e^(-2x)) -1"
      ],
      "metadata": {
        "id": "3nn0NHOeifcC"
      }
    },
    {
      "cell_type": "code",
      "source": [
        "def tanh_function(x):\n",
        "  z = (2/(1 + np.exp(-2*x))) -1\n",
        "  return z\n",
        "tanh_function(0.5), tanh_function(-1)"
      ],
      "metadata": {
        "colab": {
          "base_uri": "https://localhost:8080/"
        },
        "id": "SVsKj0iqilEj",
        "outputId": "31544a68-7a0e-4133-d098-412eeef95dab"
      },
      "execution_count": null,
      "outputs": [
        {
          "output_type": "execute_result",
          "data": {
            "text/plain": [
              "(0.4621171572600098, -0.7615941559557649)"
            ]
          },
          "metadata": {},
          "execution_count": 5
        }
      ]
    },
    {
      "cell_type": "markdown",
      "source": [
        "# **ReLU - Rectified Linear Unit**\n",
        "The ReLU function is another non-linear activation function.\n",
        "The main advantage is that it does not activate all the neurons at the same time.   \n",
        "This means that the neurons will only be deactivated if the output of the linear transformation is\n",
        "less than 0.    \n",
        "f(x)=max(0,x)   \n",
        "Negative input values --> the result is zero, that means the neuron does not get activated.   \n",
        "Since only a certain number of neurons are activated, the ReLU function is far more computationally efficient when compared to the sigmoid and tanh function."
      ],
      "metadata": {
        "id": "RPIkYQ0ziqQZ"
      }
    },
    {
      "cell_type": "code",
      "source": [
        "def relu_function(x):\n",
        "  if x<0:\n",
        "    return 0\n",
        "  else:\n",
        "    return x\n",
        "relu_function(7), relu_function(-7)"
      ],
      "metadata": {
        "colab": {
          "base_uri": "https://localhost:8080/"
        },
        "id": "xWjRZrlKizjR",
        "outputId": "c199aee3-f1d2-4f70-b56c-62862b5d8aaa"
      },
      "execution_count": null,
      "outputs": [
        {
          "output_type": "execute_result",
          "data": {
            "text/plain": [
              "(7, 0)"
            ]
          },
          "metadata": {},
          "execution_count": 6
        }
      ]
    },
    {
      "cell_type": "markdown",
      "source": [
        "# **Leaky ReLU**\n",
        "Leaky ReLU function is an improved version of the ReLU function.\n",
        "As we saw that for the ReLU function, the gradient is 0 for x<0, which would deactivate the neurons in that region.\n",
        "Leaky ReLU is defined to address this problem.\n",
        "Instead of defining the Relu function as 0 for negative values of x, we define it as an extremely\n",
        "small linear component of x.\n",
        "\n",
        "Here is the mathematical expression-   \n",
        "f(x)= 0.01x,         x<0\n",
        "= x, x>=0"
      ],
      "metadata": {
        "id": "1vd9VnuXi4q9"
      }
    },
    {
      "cell_type": "code",
      "source": [
        "def leaky_relu_function(x):\n",
        "  if x<0:\n",
        "    return 0.01*x\n",
        "  else:\n",
        "    return x\n",
        "leaky_relu_function(7), leaky_relu_function(-7)"
      ],
      "metadata": {
        "colab": {
          "base_uri": "https://localhost:8080/"
        },
        "id": "TqVrYSlgi4eO",
        "outputId": "daee9dbe-d406-40da-98ce-3efb778acd86"
      },
      "execution_count": null,
      "outputs": [
        {
          "output_type": "execute_result",
          "data": {
            "text/plain": [
              "(7, -0.07)"
            ]
          },
          "metadata": {},
          "execution_count": 7
        }
      ]
    },
    {
      "cell_type": "markdown",
      "source": [
        "# **Parameterised ReLU**\n",
        "The parameterised ReLU introduces a new parameter as a slope of the negative part of the\n",
        "function.\n",
        "\n",
        "Here’s how the ReLU function is modified to incorporate the slope parameter-\n",
        "f(x) = x, x>=0\n",
        "\n",
        "= ax, x<0\n",
        "\n",
        "When the value of a is fixed to 0.01, the function acts as a Leaky ReLU function.\n",
        "However, in case of a parameterised ReLU function, ‘a‘ is also a trainable parameter .\n",
        "The network also learns the value of ‘a‘ for faster and more optimum convergence."
      ],
      "metadata": {
        "id": "citYkPH3jQtz"
      }
    },
    {
      "cell_type": "code",
      "source": [
        "def parameterised_relu_function(x, a=0.01):\n",
        "    if x < 0:\n",
        "        return a * x\n",
        "    else:\n",
        "        return x\n",
        "\n",
        "print(parameterised_relu_function(7))\n",
        "print(parameterised_relu_function(-7))\n",
        "\n",
        "print(parameterised_relu_function(-7, a=0.1))\n"
      ],
      "metadata": {
        "colab": {
          "base_uri": "https://localhost:8080/"
        },
        "id": "0OzA9M0u_hqd",
        "outputId": "f6f75c2f-8bea-4d92-cf11-4f0c565caa8b"
      },
      "execution_count": null,
      "outputs": [
        {
          "output_type": "stream",
          "name": "stdout",
          "text": [
            "7\n",
            "-0.07\n",
            "-0.7000000000000001\n"
          ]
        }
      ]
    },
    {
      "cell_type": "markdown",
      "source": [
        "#**Exponential Linear Unit - ELU**\n",
        "Exponential Linear Unit a variant of Rectiufied Linear Unit (ReLU) that modifies the slope of the\n",
        "negative part of the function.\n",
        "Unlike the leaky relu and parametric ReLU functions, instead of a straight line, ELU uses a log\n",
        "curve for defning the negatice values.\n",
        "It is defined as\n",
        "\n",
        "f(x) = x, x>=0\n",
        "= a(e^x-1), x<0"
      ],
      "metadata": {
        "id": "Vw07nobTj18U"
      }
    },
    {
      "cell_type": "code",
      "source": [
        "def elu_function(x, a):\n",
        "  if x<0:\n",
        "    return a*(np.exp(x)-1)\n",
        "  else:\n",
        "    return x\n",
        "elu_function(5, 0.1),elu_function(-5, 0.1)"
      ],
      "metadata": {
        "colab": {
          "base_uri": "https://localhost:8080/"
        },
        "id": "vnKcA6-JjU4p",
        "outputId": "6d9ccc94-a9d3-4251-df64-7cdfcaa830c1"
      },
      "execution_count": null,
      "outputs": [
        {
          "output_type": "execute_result",
          "data": {
            "text/plain": [
              "(5, -0.09932620530009145)"
            ]
          },
          "metadata": {},
          "execution_count": 8
        }
      ]
    },
    {
      "cell_type": "markdown",
      "source": [
        "# **Swish**\n"
      ],
      "metadata": {
        "id": "C1Pj1XHNkIRR"
      }
    },
    {
      "cell_type": "code",
      "source": [
        "def swish_function(x):\n",
        "  return x/(1-np.exp(-x))\n",
        "swish_function(-67), swish_function(4)"
      ],
      "metadata": {
        "colab": {
          "base_uri": "https://localhost:8080/"
        },
        "id": "zQcKroKPkJcY",
        "outputId": "62108e47-a747-4ee9-c69d-f90b55e92bff"
      },
      "execution_count": null,
      "outputs": [
        {
          "output_type": "execute_result",
          "data": {
            "text/plain": [
              "(5.349885844610276e-28, 4.074629441455096)"
            ]
          },
          "metadata": {},
          "execution_count": 9
        }
      ]
    },
    {
      "cell_type": "markdown",
      "source": [
        "# **Softmax**\n",
        "Softmax function is often described as a combination of multiple sigmoids.\n",
        "We know that sigmoid returns values between 0 and 1, which can be treated as probabilities of a\n",
        "data point belonging to a particular class.\n",
        "Thus sigmoid is widely used for binary classification problems.\n",
        "The softmax function can be used for multiclass classification problems.\n",
        "This function returns the probability for a datapoint belonging to each individual class.\n",
        "\n",
        "Here is the mathematical expression of the same-\n",
        "While building a network for a multiclass problem, the output layer would have as many neurons\n",
        "\n",
        "as the number of classes in the target.\n",
        "For instance if you have three classes, there would be three neurons in the output layer.\n",
        "Suppose you got the output from the neurons as [1.2 , 0.9 , 0.75].\n",
        "Applying the softmax function over these values, you will get the following result – [0.42 , 0.31,\n",
        "0.27]\n",
        ". These represent the probability for the data point belonging to each class.\n",
        "Note that the sum of all the values is 1"
      ],
      "metadata": {
        "id": "sz2Msm2JkOJY"
      }
    },
    {
      "cell_type": "code",
      "source": [
        "def softmax_function(x):\n",
        "  z = np.exp(x)\n",
        "  z_ = z/z.sum()\n",
        "  return z_\n",
        "softmax_function([0.8, 1.2, 3.1])"
      ],
      "metadata": {
        "colab": {
          "base_uri": "https://localhost:8080/"
        },
        "id": "kXPLumAekN04",
        "outputId": "965f5d2b-5699-4f6e-e157-eab61e46c259"
      },
      "execution_count": null,
      "outputs": [
        {
          "output_type": "execute_result",
          "data": {
            "text/plain": [
              "array([0.08021815, 0.11967141, 0.80011044])"
            ]
          },
          "metadata": {},
          "execution_count": 10
        }
      ]
    }
  ]
}